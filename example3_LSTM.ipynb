{
 "cells": [
  {
   "cell_type": "markdown",
   "metadata": {},
   "source": [
    "# Note\n",
    "The below is a very barebones training of an LSTM for sequence prediction, mostly to test that\n",
    "my code works. \\\n",
    "It will be replaced by a more extensive example on music generation trained on \n",
    "the Bach Chorale dataset. "
   ]
  },
  {
   "cell_type": "code",
   "execution_count": 1,
   "metadata": {},
   "outputs": [
    {
     "name": "stdout",
     "output_type": "stream",
     "text": [
      "(990, 10)\n",
      "(990,)\n"
     ]
    }
   ],
   "source": [
    "import numpy as np\n",
    "\n",
    "# Generate sine wave data\n",
    "timesteps = 1000  # total timesteps\n",
    "data = np.sin(np.linspace(0, 20 * np.pi, timesteps))  # sine wave\n",
    "\n",
    "# Function to create dataset\n",
    "def create_dataset(data, look_back):\n",
    "    X, Y = [], []\n",
    "    for i in range(len(data) - look_back):\n",
    "        X.append(data[i:(i + look_back)])\n",
    "        Y.append(data[i + look_back])\n",
    "    return np.array(X), np.array(Y)\n",
    "\n",
    "# Create dataset\n",
    "look_back = 10  # number of previous time steps to consider\n",
    "X, Y = create_dataset(data, look_back)\n",
    "print(X.shape)\n",
    "print(Y.shape)\n",
    "\n",
    "# Split into train and test sets\n",
    "train_size = int(len(X) * 0.67)\n",
    "test_size = len(X) - train_size\n",
    "X_train, Y_train = X[:train_size], Y[:train_size]\n",
    "X_test, Y_test = X[train_size:], Y[train_size:]"
   ]
  },
  {
   "cell_type": "code",
   "execution_count": 2,
   "metadata": {},
   "outputs": [],
   "source": [
    "from layers import LSTM \n",
    "import torch\n",
    "from torch.utils.data import DataLoader, TensorDataset\n",
    "import torch.optim as optim\n",
    "import torch.nn.functional as F\n",
    "\n",
    "# Convert data to PyTorch tensors and create DataLoader for batch processing\n",
    "train_data = TensorDataset(torch.Tensor(X_train), torch.Tensor(Y_train))\n",
    "test_data = TensorDataset(torch.Tensor(X_test), torch.Tensor(Y_test))\n",
    "\n",
    "batch_size = 64\n",
    "train_loader = DataLoader(train_data, shuffle=True, batch_size=batch_size)\n",
    "test_loader = DataLoader(test_data, batch_size=batch_size)\n",
    "\n",
    "\n",
    "# Instantiate the LSTM model\n",
    "input_dim = 1  # As we are using a single feature (sine wave value)\n",
    "hidden_dim = 50  # Number of features in the hidden state, can be tuned\n",
    "num_layers = 1  # Number of recurrent layers\n",
    "model = LSTM(in_dim=input_dim, hidden_dim=hidden_dim, num_layers=num_layers)"
   ]
  },
  {
   "cell_type": "code",
   "execution_count": 3,
   "metadata": {},
   "outputs": [
    {
     "name": "stdout",
     "output_type": "stream",
     "text": [
      "Epoch 1, Loss: 0.41942521929740906\n",
      "Epoch 2, Loss: 0.34045082330703735\n",
      "Epoch 3, Loss: 0.3728897273540497\n",
      "Epoch 4, Loss: 0.3077889084815979\n",
      "Epoch 5, Loss: 0.36738166213035583\n",
      "Epoch 6, Loss: 0.34604257345199585\n",
      "Epoch 7, Loss: 0.35525238513946533\n",
      "Epoch 8, Loss: 0.26072826981544495\n",
      "Epoch 9, Loss: 0.39337876439094543\n",
      "Epoch 10, Loss: 0.21983441710472107\n",
      "Epoch 11, Loss: 0.23176570236682892\n",
      "Epoch 12, Loss: 0.2676360011100769\n",
      "Epoch 13, Loss: 0.24578633904457092\n",
      "Epoch 14, Loss: 0.22348769009113312\n",
      "Epoch 15, Loss: 0.2264477014541626\n",
      "Epoch 16, Loss: 0.14031729102134705\n",
      "Epoch 17, Loss: 0.21162086725234985\n",
      "Epoch 18, Loss: 0.1525958627462387\n",
      "Epoch 19, Loss: 0.18989117443561554\n",
      "Epoch 20, Loss: 0.17115388810634613\n",
      "Epoch 21, Loss: 0.20130911469459534\n",
      "Epoch 22, Loss: 0.14241954684257507\n",
      "Epoch 23, Loss: 0.13836641609668732\n",
      "Epoch 24, Loss: 0.2191215604543686\n",
      "Epoch 25, Loss: 0.1494072675704956\n",
      "Epoch 26, Loss: 0.12727472186088562\n",
      "Epoch 27, Loss: 0.14751796424388885\n",
      "Epoch 28, Loss: 0.17398634552955627\n",
      "Epoch 29, Loss: 0.15683430433273315\n",
      "Epoch 30, Loss: 0.13369452953338623\n",
      "Epoch 31, Loss: 0.14989568293094635\n",
      "Epoch 32, Loss: 0.13784821331501007\n",
      "Epoch 33, Loss: 0.10930561274290085\n",
      "Epoch 34, Loss: 0.14380846917629242\n",
      "Epoch 35, Loss: 0.1314058154821396\n",
      "Epoch 36, Loss: 0.10464222729206085\n",
      "Epoch 37, Loss: 0.11904600262641907\n",
      "Epoch 38, Loss: 0.10677170008420944\n",
      "Epoch 39, Loss: 0.14654120802879333\n",
      "Epoch 40, Loss: 0.12508247792720795\n",
      "Epoch 41, Loss: 0.11379554867744446\n",
      "Epoch 42, Loss: 0.09688136726617813\n",
      "Epoch 43, Loss: 0.10429253429174423\n",
      "Epoch 44, Loss: 0.09004248678684235\n",
      "Epoch 45, Loss: 0.09639079868793488\n",
      "Epoch 46, Loss: 0.08056139200925827\n",
      "Epoch 47, Loss: 0.07097908854484558\n",
      "Epoch 48, Loss: 0.10592008382081985\n",
      "Epoch 49, Loss: 0.08640334755182266\n",
      "Epoch 50, Loss: 0.09190085530281067\n",
      "Test Loss: 0.08261665080984433\n"
     ]
    }
   ],
   "source": [
    "# Define loss function and optimizer\n",
    "loss_function = torch.nn.MSELoss()\n",
    "optimizer = optim.SGD(model.parameters(), lr=0.01)\n",
    "\n",
    "# Training loop\n",
    "num_epochs = 50\n",
    "for epoch in range(num_epochs):\n",
    "    model.train()\n",
    "    for x_batch, y_batch in train_loader:\n",
    "        # Adding the feature dimension and transpose (batch, len, 1) to (len, batch, 1)\n",
    "        x_batch = torch.transpose(x_batch.unsqueeze(-1), 0, 1)  \n",
    "        optimizer.zero_grad()\n",
    "        output, (h_n, c_n) = model(x_batch)\n",
    "        loss = loss_function(output[-1, :, -1], y_batch)\n",
    "        loss.backward()\n",
    "        optimizer.step()\n",
    "    print(f\"Epoch {epoch+1}, Loss: {loss.item()}\")\n",
    "\n",
    "model.eval()\n",
    "test_loss = 0\n",
    "with torch.no_grad():\n",
    "    for x_batch, y_batch in test_loader:\n",
    "        # Adding the feature dimension and transpose (batch, len, 1) to (len, batch, 1)\n",
    "        x_batch = torch.transpose(x_batch.unsqueeze(-1), 0, 1)\n",
    "        output, _ = model(x_batch)\n",
    "        # Extracting the last element of the output sequence and comparing with scalar target\n",
    "        test_loss += loss_function(output[-1, :, -1], y_batch).item()\n",
    "\n",
    "test_loss /= len(test_loader)\n",
    "print(f\"Test Loss: {test_loss}\")\n"
   ]
  }
 ],
 "metadata": {
  "kernelspec": {
   "display_name": "pytorch",
   "language": "python",
   "name": "python3"
  },
  "language_info": {
   "codemirror_mode": {
    "name": "ipython",
    "version": 3
   },
   "file_extension": ".py",
   "mimetype": "text/x-python",
   "name": "python",
   "nbconvert_exporter": "python",
   "pygments_lexer": "ipython3",
   "version": "3.11.7"
  }
 },
 "nbformat": 4,
 "nbformat_minor": 2
}
