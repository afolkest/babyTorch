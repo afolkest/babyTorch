{
 "cells": [
  {
   "cell_type": "code",
   "execution_count": 1,
   "metadata": {},
   "outputs": [],
   "source": [
    "import torch\n",
    "import models\n",
    "import functions\n",
    "from data_utils import load_mnist\n",
    "import matplotlib.pyplot as plt"
   ]
  },
  {
   "cell_type": "code",
   "execution_count": 2,
   "metadata": {},
   "outputs": [],
   "source": [
    "device = \"cpu\"\n",
    "X, y = load_mnist(device)"
   ]
  },
  {
   "cell_type": "code",
   "execution_count": 3,
   "metadata": {},
   "outputs": [],
   "source": [
    "# One-hot encode the labels and normalize the pixel intensities to [-1, 1]\n",
    "yhot = functions.one_hot_encode(y, 10)\n",
    "Xnorm = 2*(X/255 - 1/2)\n",
    "\n",
    "X_train, y_train = Xnorm[:60000], yhot[:60000]\n",
    "X_val, y_val = Xnorm[60000:], yhot[60000:]"
   ]
  },
  {
   "cell_type": "code",
   "execution_count": 5,
   "metadata": {},
   "outputs": [
    {
     "name": "stdout",
     "output_type": "stream",
     "text": [
      "Linear layer with input->output = 784->300. Total params = 235500\n",
      "Linear layer with input->output = 300->100. Total params = 30100\n",
      "Linear layer with input->output = 100->100. Total params = 10100\n",
      "Linear layer with input->output = 100->100. Total params = 10100\n",
      "Linear layer with input->output = 100->10. Total params = 1010\n"
     ]
    }
   ],
   "source": [
    "# Initialize dense network \n",
    "input_size = X.shape[-1]\n",
    "output_size = 10\n",
    "mlp = models.MLP([input_size, 300, 100, 100, 100, output_size], device=device)\n",
    "print(mlp)"
   ]
  },
  {
   "cell_type": "code",
   "execution_count": 7,
   "metadata": {},
   "outputs": [],
   "source": [
    "def train(model, X, y, batch_size, epochs, learning_rate=1e-2, X_valid=None, y_valid=None):\n",
    "    #Train with stochastic SGD on mini-batches with fixed learning rate\n",
    "\n",
    "    train_loss = model.get_classification_accuracy(X_train, y_train, batch_size=100)\n",
    "    train_accuracy_history = [train_loss]\n",
    "    valid_accuracy_history = []\n",
    "    if X_valid is not None:\n",
    "        valid_loss = model.get_classification_accuracy(X_val, y_val, batch_size=100)\n",
    "        valid_accuracy_history.append(valid_loss)\n",
    "\n",
    "    for epoch in range(epochs): \n",
    "        running_loss = 0.0\n",
    "\n",
    "        # Randomize the order of the data\n",
    "        indices = torch.randperm(X.shape[0])\n",
    "        X_shuffled = X[indices]\n",
    "        y_shuffled = y[indices]\n",
    "        n_batches = X.shape[0]//batch_size\n",
    "\n",
    "        for i in range(n_batches): \n",
    "            start = i * batch_size \n",
    "            end = min(start + batch_size, X.shape[0])\n",
    "            X_batch = X_shuffled[start:end].to(device)\n",
    "            y_batch = y_shuffled[start:end].to(device)\n",
    "            pred_batch = model(X_batch)\n",
    "\n",
    "            loss = functions.cross_entropy(pred_batch, y_batch)\n",
    "\n",
    "            # Zero out gradients before backpropagation\n",
    "            for param in model.parameters():\n",
    "                if param.grad is not None:\n",
    "                    param.grad.zero_()\n",
    "            loss.backward()\n",
    "\n",
    "            with torch.no_grad(): \n",
    "                for param in model.parameters():\n",
    "                        param -= learning_rate * param.grad\n",
    "\n",
    "            running_loss += loss.item()\n",
    "            if i % 300 == 99:    # print every 100 mini-batches\n",
    "                print(f'[Epoch: {epoch + 1}, Batch: {i + 1}]/{n_batches} \\\n",
    "                      loss: {running_loss / 100:.3f}')\n",
    "                running_loss = 0.0\n",
    "\n",
    "\n",
    "        train_loss = model.get_classification_accuracy(X, y, batch_size=100)\n",
    "        train_accuracy_history.append(train_loss)\n",
    "        if X_valid is not None:\n",
    "            valid_loss = model.get_classification_accuracy(X_valid, y_valid, batch_size=100)\n",
    "            valid_accuracy_history.append(valid_loss)\n",
    "\n",
    "        print(f'====================')\n",
    "        epochstr = f'[Epoch: {epoch + 1}, test accuracy: {train_loss:.3f}' \n",
    "        if X_valid is not None:\n",
    "            epochstr =epochstr+ f', validation accuracy: {valid_loss:.3f}'\n",
    "        print(epochstr)\n",
    "        print(f'====================')\n",
    "\n",
    "    return train_accuracy_history, valid_accuracy_history    "
   ]
  },
  {
   "cell_type": "code",
   "execution_count": 8,
   "metadata": {},
   "outputs": [
    {
     "name": "stdout",
     "output_type": "stream",
     "text": [
      "[Epoch: 1, Batch: 100]/937                       loss: 1.363\n",
      "[Epoch: 1, Batch: 400]/937                       loss: 1.542\n",
      "[Epoch: 1, Batch: 700]/937                       loss: 1.066\n",
      "====================\n",
      "[Epoch: 1, test accuracy: 0.919, validation accuracy: 0.925\n",
      "====================\n",
      "[Epoch: 2, Batch: 100]/937                       loss: 0.265\n",
      "[Epoch: 2, Batch: 400]/937                       loss: 0.765\n",
      "[Epoch: 2, Batch: 700]/937                       loss: 0.668\n",
      "====================\n",
      "[Epoch: 2, test accuracy: 0.942, validation accuracy: 0.942\n",
      "====================\n",
      "[Epoch: 3, Batch: 100]/937                       loss: 0.195\n",
      "[Epoch: 3, Batch: 400]/937                       loss: 0.572\n",
      "[Epoch: 3, Batch: 700]/937                       loss: 0.548\n",
      "====================\n",
      "[Epoch: 3, test accuracy: 0.948, validation accuracy: 0.944\n",
      "====================\n",
      "[Epoch: 4, Batch: 100]/937                       loss: 0.162\n",
      "[Epoch: 4, Batch: 400]/937                       loss: 0.458\n",
      "[Epoch: 4, Batch: 700]/937                       loss: 0.440\n",
      "====================\n",
      "[Epoch: 4, test accuracy: 0.959, validation accuracy: 0.953\n",
      "====================\n",
      "[Epoch: 5, Batch: 100]/937                       loss: 0.135\n",
      "[Epoch: 5, Batch: 400]/937                       loss: 0.424\n",
      "[Epoch: 5, Batch: 700]/937                       loss: 0.378\n",
      "====================\n",
      "[Epoch: 5, test accuracy: 0.966, validation accuracy: 0.958\n",
      "====================\n",
      "[Epoch: 6, Batch: 100]/937                       loss: 0.126\n",
      "[Epoch: 6, Batch: 400]/937                       loss: 0.351\n",
      "[Epoch: 6, Batch: 700]/937                       loss: 0.345\n",
      "====================\n",
      "[Epoch: 6, test accuracy: 0.966, validation accuracy: 0.957\n",
      "====================\n",
      "[Epoch: 7, Batch: 100]/937                       loss: 0.100\n",
      "[Epoch: 7, Batch: 400]/937                       loss: 0.319\n",
      "[Epoch: 7, Batch: 700]/937                       loss: 0.308\n",
      "====================\n",
      "[Epoch: 7, test accuracy: 0.973, validation accuracy: 0.966\n",
      "====================\n",
      "[Epoch: 8, Batch: 100]/937                       loss: 0.092\n",
      "[Epoch: 8, Batch: 400]/937                       loss: 0.279\n",
      "[Epoch: 8, Batch: 700]/937                       loss: 0.284\n",
      "====================\n",
      "[Epoch: 8, test accuracy: 0.972, validation accuracy: 0.964\n",
      "====================\n",
      "[Epoch: 9, Batch: 100]/937                       loss: 0.085\n",
      "[Epoch: 9, Batch: 400]/937                       loss: 0.250\n",
      "[Epoch: 9, Batch: 700]/937                       loss: 0.253\n",
      "====================\n",
      "[Epoch: 9, test accuracy: 0.978, validation accuracy: 0.969\n",
      "====================\n",
      "[Epoch: 10, Batch: 100]/937                       loss: 0.079\n",
      "[Epoch: 10, Batch: 400]/937                       loss: 0.238\n",
      "[Epoch: 10, Batch: 700]/937                       loss: 0.225\n",
      "====================\n",
      "[Epoch: 10, test accuracy: 0.976, validation accuracy: 0.965\n",
      "====================\n",
      "[Epoch: 11, Batch: 100]/937                       loss: 0.071\n",
      "[Epoch: 11, Batch: 400]/937                       loss: 0.195\n",
      "[Epoch: 11, Batch: 700]/937                       loss: 0.214\n",
      "====================\n",
      "[Epoch: 11, test accuracy: 0.979, validation accuracy: 0.968\n",
      "====================\n",
      "[Epoch: 12, Batch: 100]/937                       loss: 0.066\n",
      "[Epoch: 12, Batch: 400]/937                       loss: 0.189\n",
      "[Epoch: 12, Batch: 700]/937                       loss: 0.205\n",
      "====================\n",
      "[Epoch: 12, test accuracy: 0.982, validation accuracy: 0.972\n",
      "====================\n",
      "[Epoch: 13, Batch: 100]/937                       loss: 0.063\n",
      "[Epoch: 13, Batch: 400]/937                       loss: 0.176\n",
      "[Epoch: 13, Batch: 700]/937                       loss: 0.177\n",
      "====================\n",
      "[Epoch: 13, test accuracy: 0.981, validation accuracy: 0.969\n",
      "====================\n",
      "[Epoch: 14, Batch: 100]/937                       loss: 0.050\n",
      "[Epoch: 14, Batch: 400]/937                       loss: 0.166\n",
      "[Epoch: 14, Batch: 700]/937                       loss: 0.164\n",
      "====================\n",
      "[Epoch: 14, test accuracy: 0.985, validation accuracy: 0.972\n",
      "====================\n",
      "[Epoch: 15, Batch: 100]/937                       loss: 0.045\n",
      "[Epoch: 15, Batch: 400]/937                       loss: 0.146\n",
      "[Epoch: 15, Batch: 700]/937                       loss: 0.153\n",
      "====================\n",
      "[Epoch: 15, test accuracy: 0.988, validation accuracy: 0.974\n",
      "====================\n",
      "[Epoch: 16, Batch: 100]/937                       loss: 0.048\n",
      "[Epoch: 16, Batch: 400]/937                       loss: 0.137\n",
      "[Epoch: 16, Batch: 700]/937                       loss: 0.136\n",
      "====================\n",
      "[Epoch: 16, test accuracy: 0.989, validation accuracy: 0.974\n",
      "====================\n",
      "[Epoch: 17, Batch: 100]/937                       loss: 0.037\n",
      "[Epoch: 17, Batch: 400]/937                       loss: 0.137\n",
      "[Epoch: 17, Batch: 700]/937                       loss: 0.129\n",
      "====================\n",
      "[Epoch: 17, test accuracy: 0.989, validation accuracy: 0.974\n",
      "====================\n",
      "[Epoch: 18, Batch: 100]/937                       loss: 0.042\n",
      "[Epoch: 18, Batch: 400]/937                       loss: 0.119\n",
      "[Epoch: 18, Batch: 700]/937                       loss: 0.119\n",
      "====================\n",
      "[Epoch: 18, test accuracy: 0.991, validation accuracy: 0.975\n",
      "====================\n",
      "[Epoch: 19, Batch: 100]/937                       loss: 0.034\n",
      "[Epoch: 19, Batch: 400]/937                       loss: 0.106\n",
      "[Epoch: 19, Batch: 700]/937                       loss: 0.113\n",
      "====================\n",
      "[Epoch: 19, test accuracy: 0.991, validation accuracy: 0.975\n",
      "====================\n",
      "[Epoch: 20, Batch: 100]/937                       loss: 0.029\n",
      "[Epoch: 20, Batch: 400]/937                       loss: 0.097\n",
      "[Epoch: 20, Batch: 700]/937                       loss: 0.105\n",
      "====================\n",
      "[Epoch: 20, test accuracy: 0.992, validation accuracy: 0.976\n",
      "====================\n"
     ]
    }
   ],
   "source": [
    "train_hist, val_hist = train(mlp, X_train, y_train, batch_size=64, epochs=20, \n",
    "                             X_valid=X_val, y_valid=y_val, learning_rate=1e-2)"
   ]
  },
  {
   "cell_type": "code",
   "execution_count": 9,
   "metadata": {},
   "outputs": [
    {
     "data": {
      "text/plain": [
       "<function matplotlib.pyplot.show(close=None, block=None)>"
      ]
     },
     "execution_count": 9,
     "metadata": {},
     "output_type": "execute_result"
    },
    {
     "data": {
      "image/png": "[encoded data removed]",
      "text/plain": [
       "<Figure size 640x480 with 1 Axes>"
      ]
     },
     "metadata": {},
     "output_type": "display_data"
    }
   ],
   "source": [
    "plt.plot(train_hist[1:])\n",
    "plt.plot(val_hist[1:])\n",
    "plt.show"
   ]
  }
 ],
 "metadata": {
  "kernelspec": {
   "display_name": "pytorch",
   "language": "python",
   "name": "python3"
  },
  "language_info": {
   "codemirror_mode": {
    "name": "ipython",
    "version": 3
   },
   "file_extension": ".py",
   "mimetype": "text/x-python",
   "name": "python",
   "nbconvert_exporter": "python",
   "pygments_lexer": "ipython3",
   "version": "3.11.7"
  }
 },
 "nbformat": 4,
 "nbformat_minor": 2
}
